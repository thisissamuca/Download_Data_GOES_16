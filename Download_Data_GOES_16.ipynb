{
  "nbformat": 4,
  "nbformat_minor": 0,
  "metadata": {
    "colab": {
      "provenance": [],
      "authorship_tag": "ABX9TyOYR6ZPmCoJgshXGDYm44E2",
      "include_colab_link": true
    },
    "kernelspec": {
      "name": "python3",
      "display_name": "Python 3"
    },
    "language_info": {
      "name": "python"
    }
  },
  "cells": [
    {
      "cell_type": "markdown",
      "metadata": {
        "id": "view-in-github",
        "colab_type": "text"
      },
      "source": [
        "<a href=\"https://colab.research.google.com/github/thisissamuca/Download_Data_GOES_16/blob/main/Download_Data_GOES_16.ipynb\" target=\"_parent\"><img src=\"https://colab.research.google.com/assets/colab-badge.svg\" alt=\"Open In Colab\"/></a>"
      ]
    },
    {
      "cell_type": "markdown",
      "source": [
        "# Executando script para baixar imagens do banco de dados NOAA-GOES-16\n",
        "#### Script by Brian Blaylock.\n",
        "#####Acess in https://gist.github.com/blaylockbk/d60f4fce15a7f0475f975fc57da9104d#file-download_goes_aws-py"
      ],
      "metadata": {
        "id": "XcYSososuTMx"
      }
    },
    {
      "cell_type": "code",
      "source": [
        "pip install s3fs"
      ],
      "metadata": {
        "colab": {
          "base_uri": "https://localhost:8080/"
        },
        "id": "S6fofRVtuaXR",
        "outputId": "e17ffccc-345f-4d06-fc3f-61eb99f9926e"
      },
      "execution_count": 2,
      "outputs": [
        {
          "output_type": "stream",
          "name": "stdout",
          "text": [
            "Collecting s3fs\n",
            "  Downloading s3fs-2025.3.2-py3-none-any.whl.metadata (1.9 kB)\n",
            "Collecting aiobotocore<3.0.0,>=2.5.4 (from s3fs)\n",
            "  Downloading aiobotocore-2.22.0-py3-none-any.whl.metadata (24 kB)\n",
            "Requirement already satisfied: fsspec==2025.3.2.* in /usr/local/lib/python3.11/dist-packages (from s3fs) (2025.3.2)\n",
            "Requirement already satisfied: aiohttp!=4.0.0a0,!=4.0.0a1 in /usr/local/lib/python3.11/dist-packages (from s3fs) (3.11.15)\n",
            "Collecting aioitertools<1.0.0,>=0.5.1 (from aiobotocore<3.0.0,>=2.5.4->s3fs)\n",
            "  Downloading aioitertools-0.12.0-py3-none-any.whl.metadata (3.8 kB)\n",
            "Collecting botocore<1.37.4,>=1.37.2 (from aiobotocore<3.0.0,>=2.5.4->s3fs)\n",
            "  Downloading botocore-1.37.3-py3-none-any.whl.metadata (5.7 kB)\n",
            "Requirement already satisfied: python-dateutil<3.0.0,>=2.1 in /usr/local/lib/python3.11/dist-packages (from aiobotocore<3.0.0,>=2.5.4->s3fs) (2.9.0.post0)\n",
            "Collecting jmespath<2.0.0,>=0.7.1 (from aiobotocore<3.0.0,>=2.5.4->s3fs)\n",
            "  Downloading jmespath-1.0.1-py3-none-any.whl.metadata (7.6 kB)\n",
            "Requirement already satisfied: multidict<7.0.0,>=6.0.0 in /usr/local/lib/python3.11/dist-packages (from aiobotocore<3.0.0,>=2.5.4->s3fs) (6.4.3)\n",
            "Requirement already satisfied: wrapt<2.0.0,>=1.10.10 in /usr/local/lib/python3.11/dist-packages (from aiobotocore<3.0.0,>=2.5.4->s3fs) (1.17.2)\n",
            "Requirement already satisfied: aiohappyeyeballs>=2.3.0 in /usr/local/lib/python3.11/dist-packages (from aiohttp!=4.0.0a0,!=4.0.0a1->s3fs) (2.6.1)\n",
            "Requirement already satisfied: aiosignal>=1.1.2 in /usr/local/lib/python3.11/dist-packages (from aiohttp!=4.0.0a0,!=4.0.0a1->s3fs) (1.3.2)\n",
            "Requirement already satisfied: attrs>=17.3.0 in /usr/local/lib/python3.11/dist-packages (from aiohttp!=4.0.0a0,!=4.0.0a1->s3fs) (25.3.0)\n",
            "Requirement already satisfied: frozenlist>=1.1.1 in /usr/local/lib/python3.11/dist-packages (from aiohttp!=4.0.0a0,!=4.0.0a1->s3fs) (1.6.0)\n",
            "Requirement already satisfied: propcache>=0.2.0 in /usr/local/lib/python3.11/dist-packages (from aiohttp!=4.0.0a0,!=4.0.0a1->s3fs) (0.3.1)\n",
            "Requirement already satisfied: yarl<2.0,>=1.17.0 in /usr/local/lib/python3.11/dist-packages (from aiohttp!=4.0.0a0,!=4.0.0a1->s3fs) (1.20.0)\n",
            "Requirement already satisfied: urllib3!=2.2.0,<3,>=1.25.4 in /usr/local/lib/python3.11/dist-packages (from botocore<1.37.4,>=1.37.2->aiobotocore<3.0.0,>=2.5.4->s3fs) (2.4.0)\n",
            "Requirement already satisfied: six>=1.5 in /usr/local/lib/python3.11/dist-packages (from python-dateutil<3.0.0,>=2.1->aiobotocore<3.0.0,>=2.5.4->s3fs) (1.17.0)\n",
            "Requirement already satisfied: idna>=2.0 in /usr/local/lib/python3.11/dist-packages (from yarl<2.0,>=1.17.0->aiohttp!=4.0.0a0,!=4.0.0a1->s3fs) (3.10)\n",
            "Downloading s3fs-2025.3.2-py3-none-any.whl (30 kB)\n",
            "Downloading aiobotocore-2.22.0-py3-none-any.whl (78 kB)\n",
            "\u001b[2K   \u001b[90m━━━━━━━━━━━━━━━━━━━━━━━━━━━━━━━━━━━━━━━━\u001b[0m \u001b[32m78.9/78.9 kB\u001b[0m \u001b[31m3.6 MB/s\u001b[0m eta \u001b[36m0:00:00\u001b[0m\n",
            "\u001b[?25hDownloading aioitertools-0.12.0-py3-none-any.whl (24 kB)\n",
            "Downloading botocore-1.37.3-py3-none-any.whl (13.3 MB)\n",
            "\u001b[2K   \u001b[90m━━━━━━━━━━━━━━━━━━━━━━━━━━━━━━━━━━━━━━━━\u001b[0m \u001b[32m13.3/13.3 MB\u001b[0m \u001b[31m51.6 MB/s\u001b[0m eta \u001b[36m0:00:00\u001b[0m\n",
            "\u001b[?25hDownloading jmespath-1.0.1-py3-none-any.whl (20 kB)\n",
            "Installing collected packages: jmespath, aioitertools, botocore, aiobotocore, s3fs\n",
            "Successfully installed aiobotocore-2.22.0 aioitertools-0.12.0 botocore-1.37.3 jmespath-1.0.1 s3fs-2025.3.2\n"
          ]
        }
      ]
    },
    {
      "cell_type": "code",
      "execution_count": 3,
      "metadata": {
        "id": "mX_SHivnuLys",
        "colab": {
          "base_uri": "https://localhost:8080/"
        },
        "collapsed": true,
        "outputId": "2ed8922f-d8c3-4ae4-daee-cda52c09d24f"
      },
      "outputs": [
        {
          "output_type": "stream",
          "name": "stdout",
          "text": [
            "Mounted at /content/drive\n"
          ]
        }
      ],
      "source": [
        "import s3fs\n",
        "import numpy as np\n",
        "from google.colab import drive\n",
        "drive.mount('/content/drive')"
      ]
    },
    {
      "cell_type": "code",
      "source": [
        "# Usar credenciais anonimas para acessar os dados\n",
        "\n",
        "fs = s3fs.S3FileSystem(anon=True)\n",
        "\n",
        "# Lista contendo os produtos GOES-16.\n",
        "\n",
        "fs.ls('s3://noaa-goes16/')\n",
        "\n",
        "# Lista de arquivos específicos\n",
        "# Consultar em: https://noaa-goes16.s3.amazonaws.com/index.html#\n",
        "\n",
        "hora = 16\n",
        "\n",
        "lista = []\n",
        "\n",
        "lista_2 = []\n",
        "\n",
        "lista_3 = []\n",
        "\n",
        "erros = []\n",
        "\n",
        "for ano in range(2020, 2025):\n",
        "\n",
        "  for dia in range(152, 213):\n",
        "\n",
        "    try:\n",
        "\n",
        "      lista.append(fs.ls(f'noaa-goes16/ABI-L2-CMIPF/{ano}/{dia}/{hora}/'))\n",
        "\n",
        "    except:\n",
        "\n",
        "      erros.append((ano, dia))\n",
        "\n",
        "      pass\n",
        "\n",
        "for a in range(len(lista)):\n",
        "\n",
        "  for b in range(1, 10):\n",
        "\n",
        "    filtered_files = [file for file in lista[a] if f\"M6C0{b}\" in file]\n",
        "    lista_2.append(filtered_files)\n",
        "\n",
        "  for c in range(10, 17):\n",
        "\n",
        "    filtered_files = [file for file in lista[a] if f\"M6C{c}\" in file]\n",
        "    lista_2.append(filtered_files)\n",
        "\n",
        "for d in range(len(lista_2)):\n",
        "\n",
        "    lista_3.append(lista_2[d][0])\n",
        "\n",
        "for i in range(len(lista_3)):\n",
        "\n",
        "  # Download the files\n",
        "\n",
        "  fs.get(lista_3[i], f'/content/drive/MyDrive/NBR/ABI-L2-CMIPF/netCDFs/{lista_3[i].split(\"/\")[2]}/{lista_3[i].split(\"/\")[3]}/{lista_3[i].split(\"/\")[-1]}')"
      ],
      "metadata": {
        "id": "Ao7bFpEVhp9o"
      },
      "execution_count": 21,
      "outputs": []
    }
  ]
}